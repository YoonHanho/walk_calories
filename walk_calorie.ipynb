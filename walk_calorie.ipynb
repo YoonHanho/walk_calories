{
  "nbformat": 4,
  "nbformat_minor": 0,
  "metadata": {
    "colab": {
      "name": "walk_calorie.ipynb",
      "version": "0.3.2",
      "provenance": [],
      "collapsed_sections": []
    },
    "kernelspec": {
      "name": "python2",
      "display_name": "Python 2"
    }
  },
  "cells": [
    {
      "metadata": {
        "id": "U89o52nLEzGe",
        "colab_type": "text"
      },
      "cell_type": "markdown",
      "source": [
        "## 걸음수와 소비 칼로리 회귀분석을 통한 목표 칼로리 계산\n",
        "\n",
        "- 스마트워치에서는 주간목표를 걸음수나 칼로리 둘 중 하나만 선택 가능\n",
        "- 걸음수로 목표를 선택하니, 사이클로 칼로리 소비시 목표 반영 안 됨\n",
        "- 걸음수와 칼로리와의 회귀분석으로, 칼로리 목표를 만들어보자 "
      ]
    },
    {
      "metadata": {
        "id": "gxG46xmoEjPZ",
        "colab_type": "code",
        "colab": {}
      },
      "cell_type": "code",
      "source": [
        "import pandas as pd\n",
        "import numpy as np\n",
        "import matplotlib.pyplot as plt\n",
        "%matplotlib inline\n",
        "\n",
        "import seaborn as sns"
      ],
      "execution_count": 0,
      "outputs": []
    },
    {
      "metadata": {
        "id": "muOf5-MdPx1T",
        "colab_type": "text"
      },
      "cell_type": "markdown",
      "source": [
        "####실측 데이터 : 최근 몇 주 동안 스마트와치에 기록된 걸음수와 칼로리"
      ]
    },
    {
      "metadata": {
        "id": "ksTS-sULE91_",
        "colab_type": "code",
        "colab": {
          "base_uri": "https://localhost:8080/",
          "height": 266
        },
        "outputId": "26a37d62-63e8-4108-d2e5-72a28ebae35c"
      },
      "cell_type": "code",
      "source": [
        "walk = [110566, 44498, 55368, 64705, 40837, 78101, 89357]\n",
        "cal = [13107, 6913, 7778, 9326, 5090, 9669, 11788]\n",
        "\n",
        "df = pd.DataFrame({'walk':walk, 'cal':cal})\n",
        "df"
      ],
      "execution_count": 3,
      "outputs": [
        {
          "output_type": "execute_result",
          "data": {
            "text/html": [
              "<div>\n",
              "<style scoped>\n",
              "    .dataframe tbody tr th:only-of-type {\n",
              "        vertical-align: middle;\n",
              "    }\n",
              "\n",
              "    .dataframe tbody tr th {\n",
              "        vertical-align: top;\n",
              "    }\n",
              "\n",
              "    .dataframe thead th {\n",
              "        text-align: right;\n",
              "    }\n",
              "</style>\n",
              "<table border=\"1\" class=\"dataframe\">\n",
              "  <thead>\n",
              "    <tr style=\"text-align: right;\">\n",
              "      <th></th>\n",
              "      <th>cal</th>\n",
              "      <th>walk</th>\n",
              "    </tr>\n",
              "  </thead>\n",
              "  <tbody>\n",
              "    <tr>\n",
              "      <th>0</th>\n",
              "      <td>13107</td>\n",
              "      <td>110566</td>\n",
              "    </tr>\n",
              "    <tr>\n",
              "      <th>1</th>\n",
              "      <td>6913</td>\n",
              "      <td>44498</td>\n",
              "    </tr>\n",
              "    <tr>\n",
              "      <th>2</th>\n",
              "      <td>7778</td>\n",
              "      <td>55368</td>\n",
              "    </tr>\n",
              "    <tr>\n",
              "      <th>3</th>\n",
              "      <td>9326</td>\n",
              "      <td>64705</td>\n",
              "    </tr>\n",
              "    <tr>\n",
              "      <th>4</th>\n",
              "      <td>5090</td>\n",
              "      <td>40837</td>\n",
              "    </tr>\n",
              "    <tr>\n",
              "      <th>5</th>\n",
              "      <td>9669</td>\n",
              "      <td>78101</td>\n",
              "    </tr>\n",
              "    <tr>\n",
              "      <th>6</th>\n",
              "      <td>11788</td>\n",
              "      <td>89357</td>\n",
              "    </tr>\n",
              "  </tbody>\n",
              "</table>\n",
              "</div>"
            ],
            "text/plain": [
              "     cal    walk\n",
              "0  13107  110566\n",
              "1   6913   44498\n",
              "2   7778   55368\n",
              "3   9326   64705\n",
              "4   5090   40837\n",
              "5   9669   78101\n",
              "6  11788   89357"
            ]
          },
          "metadata": {
            "tags": []
          },
          "execution_count": 3
        }
      ]
    },
    {
      "metadata": {
        "id": "3wmbB9FqEv5d",
        "colab_type": "text"
      },
      "cell_type": "markdown",
      "source": [
        "#### 상관계수와 산점도 차트로 걸음수와 소비 칼로리의 관계를 살펴보자"
      ]
    },
    {
      "metadata": {
        "id": "L6NGtry1Ft5I",
        "colab_type": "code",
        "colab": {
          "base_uri": "https://localhost:8080/",
          "height": 111
        },
        "outputId": "ef5b42e6-b22b-4d92-c268-b5d41b406c2d"
      },
      "cell_type": "code",
      "source": [
        "df.corr()"
      ],
      "execution_count": 4,
      "outputs": [
        {
          "output_type": "execute_result",
          "data": {
            "text/html": [
              "<div>\n",
              "<style scoped>\n",
              "    .dataframe tbody tr th:only-of-type {\n",
              "        vertical-align: middle;\n",
              "    }\n",
              "\n",
              "    .dataframe tbody tr th {\n",
              "        vertical-align: top;\n",
              "    }\n",
              "\n",
              "    .dataframe thead th {\n",
              "        text-align: right;\n",
              "    }\n",
              "</style>\n",
              "<table border=\"1\" class=\"dataframe\">\n",
              "  <thead>\n",
              "    <tr style=\"text-align: right;\">\n",
              "      <th></th>\n",
              "      <th>cal</th>\n",
              "      <th>walk</th>\n",
              "    </tr>\n",
              "  </thead>\n",
              "  <tbody>\n",
              "    <tr>\n",
              "      <th>cal</th>\n",
              "      <td>1.000000</td>\n",
              "      <td>0.974965</td>\n",
              "    </tr>\n",
              "    <tr>\n",
              "      <th>walk</th>\n",
              "      <td>0.974965</td>\n",
              "      <td>1.000000</td>\n",
              "    </tr>\n",
              "  </tbody>\n",
              "</table>\n",
              "</div>"
            ],
            "text/plain": [
              "           cal      walk\n",
              "cal   1.000000  0.974965\n",
              "walk  0.974965  1.000000"
            ]
          },
          "metadata": {
            "tags": []
          },
          "execution_count": 4
        }
      ]
    },
    {
      "metadata": {
        "id": "fj-8Q5KxFqAk",
        "colab_type": "code",
        "colab": {
          "base_uri": "https://localhost:8080/",
          "height": 369
        },
        "outputId": "ca94d88b-bc6c-4577-dd5f-390a7c4e1453"
      },
      "cell_type": "code",
      "source": [
        "g = sns.lmplot(x='walk', y='cal', data=df)"
      ],
      "execution_count": 5,
      "outputs": [
        {
          "output_type": "display_data",
          "data": {
            "image/png": "[encoded data removed]",
            "text/plain": [
              "<Figure size 360x360 with 1 Axes>"
            ]
          },
          "metadata": {
            "tags": []
          }
        }
      ]
    },
    {
      "metadata": {
        "id": "GxsazuzQQtmT",
        "colab_type": "text"
      },
      "cell_type": "markdown",
      "source": [
        "완벽한 선형관계를 보인다. "
      ]
    },
    {
      "metadata": {
        "id": "Y_7oBTeZQ2Vb",
        "colab_type": "text"
      },
      "cell_type": "markdown",
      "source": [
        "#### 회귀분석으로 주간 목표 걸음수에 맞는 칼로리를 찾아보자\n",
        "\n",
        "- 주간 목표 걸음수 : 119,000걸음(하루 1.7만보 * 7일) -> 칼로리로 환산한다면?"
      ]
    },
    {
      "metadata": {
        "id": "SIk2b4_URLhW",
        "colab_type": "code",
        "colab": {
          "base_uri": "https://localhost:8080/",
          "height": 35
        },
        "outputId": "1ecb8067-f53d-4b4b-d2c7-e10ad16dd2db"
      },
      "cell_type": "code",
      "source": [
        "week_walk_target = 17000 * 7\n",
        "print(\"주간 걸음수 목표 : {:,}\".format(week_walk_target))"
      ],
      "execution_count": 6,
      "outputs": [
        {
          "output_type": "stream",
          "text": [
            "주간 걸음수 목표 : 119,000\n"
          ],
          "name": "stdout"
        }
      ]
    },
    {
      "metadata": {
        "id": "9wN2EBo2GDzk",
        "colab_type": "code",
        "colab": {
          "base_uri": "https://localhost:8080/",
          "height": 53
        },
        "outputId": "8e1b0c94-fc0c-4d97-f799-73b106f3facf"
      },
      "cell_type": "code",
      "source": [
        "from sklearn import linear_model\n",
        "\n",
        "X = df['walk'].values.reshape(-1, 1)\n",
        "y = df['cal'].values\n",
        "\n",
        "regr = linear_model.LinearRegression()\n",
        "regr.fit(X, y)"
      ],
      "execution_count": 7,
      "outputs": [
        {
          "output_type": "execute_result",
          "data": {
            "text/plain": [
              "LinearRegression(copy_X=True, fit_intercept=True, n_jobs=None,\n",
              "         normalize=False)"
            ]
          },
          "metadata": {
            "tags": []
          },
          "execution_count": 7
        }
      ]
    },
    {
      "metadata": {
        "id": "AVUGQER4IUpq",
        "colab_type": "code",
        "colab": {
          "base_uri": "https://localhost:8080/",
          "height": 35
        },
        "outputId": "b4ba593d-bd01-4565-deea-f85f6557fbe2"
      },
      "cell_type": "code",
      "source": [
        "print(\"회귀식 : y = {0:5.1f} + {1:5.4f} * X\".format(regr.intercept_, regr.coef_[0]))"
      ],
      "execution_count": 8,
      "outputs": [
        {
          "output_type": "stream",
          "text": [
            "회귀식 : y = 1688.3 + 0.1073 * X\n"
          ],
          "name": "stdout"
        }
      ]
    },
    {
      "metadata": {
        "id": "-Vz3pmmSHie1",
        "colab_type": "code",
        "colab": {
          "base_uri": "https://localhost:8080/",
          "height": 35
        },
        "outputId": "d42886b8-96f0-46c3-9888-d06ddb68fbed"
      },
      "cell_type": "code",
      "source": [
        "pred = regr.predict([[week_walk_target]])[0]\n",
        "print(\"한 주간의 걸음목표에 상응하는 칼로리 목표는? ==> {:6.0f} kcal\".format(pred))"
      ],
      "execution_count": 9,
      "outputs": [
        {
          "output_type": "stream",
          "text": [
            "한 주간의 걸음목표에 상응하는 칼로리 목표는? ==>  14452 kcal\n"
          ],
          "name": "stdout"
        }
      ]
    },
    {
      "metadata": {
        "id": "mkxMjYT3Rmsn",
        "colab_type": "text"
      },
      "cell_type": "markdown",
      "source": [
        "#### 결론 : 한주간 11.9만 걸음에 해당하는 목표 칼로리는 약 1.4만 kcal"
      ]
    },
    {
      "metadata": {
        "id": "U0eBKIHatqIM",
        "colab_type": "code",
        "colab": {}
      },
      "cell_type": "code",
      "source": [
        ""
      ],
      "execution_count": 0,
      "outputs": []
    }
  ]
}